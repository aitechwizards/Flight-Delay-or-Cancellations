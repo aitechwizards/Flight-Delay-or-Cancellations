{
 "cells": [
  {
   "cell_type": "markdown",
   "metadata": {},
   "source": [
    "## Flight Delay Prediction \n",
    "---\n",
    "\n",
    "Load All the Required Libraries"
   ]
  },
  {
   "cell_type": "code",
   "execution_count": 1,
   "metadata": {},
   "outputs": [],
   "source": [
    "import pandas as pd\n",
    "import numpy as np\n",
    "import matplotlib.pyplot as plt\n",
    "import matplotlib.patches as mpatches\n",
    "import matplotlib as mpl\n",
    "import seaborn as sns\n",
    "from datetime import datetime as dt  \n",
    "from utils.MlUtils import MlUtils ,convert_time ,concat_date_time ,concat_date_time_ARRIVAL, concat_date_time_TaxiOut\n",
    "from matplotlib.gridspec import GridSpec"
   ]
  },
  {
   "cell_type": "code",
   "execution_count": 2,
   "metadata": {},
   "outputs": [],
   "source": [
    "ut=MlUtils()\n",
    "dfFlight = ut.load_csv('././data/flights.csv',  500000)"
   ]
  },
  {
   "cell_type": "markdown",
   "metadata": {},
   "source": [
    "### `Percentage of missing values per columns`"
   ]
  },
  {
   "cell_type": "code",
   "execution_count": 3,
   "metadata": {},
   "outputs": [
    {
     "name": "stdout",
     "output_type": "stream",
     "text": [
      "                Feature  Missing_Count  Missing_%\n",
      "0                  YEAR              0     0.0000\n",
      "1                 MONTH              0     0.0000\n",
      "2                   DAY              0     0.0000\n",
      "3           DAY_OF_WEEK              0     0.0000\n",
      "4               AIRLINE              0     0.0000\n",
      "5         FLIGHT_NUMBER              0     0.0000\n",
      "6           TAIL_NUMBER           3750     0.7500\n",
      "7        ORIGIN_AIRPORT              0     0.0000\n",
      "8   DESTINATION_AIRPORT              0     0.0000\n",
      "9   SCHEDULED_DEPARTURE              0     0.0000\n",
      "10       DEPARTURE_TIME          16416     3.2832\n",
      "11      DEPARTURE_DELAY          16416     3.2832\n",
      "12             TAXI_OUT          16704     3.3408\n",
      "13           WHEELS_OFF          16704     3.3408\n",
      "14       SCHEDULED_TIME              1     0.0002\n",
      "15         ELAPSED_TIME          17948     3.5896\n",
      "16             AIR_TIME          17948     3.5896\n",
      "17             DISTANCE              0     0.0000\n",
      "18            WHEELS_ON          17159     3.4318\n",
      "19              TAXI_IN          17159     3.4318\n",
      "20    SCHEDULED_ARRIVAL              0     0.0000\n",
      "21         ARRIVAL_TIME          17159     3.4318\n",
      "22        ARRIVAL_DELAY          17948     3.5896\n",
      "23             DIVERTED              0     0.0000\n",
      "24            CANCELLED              0     0.0000\n",
      "25  CANCELLATION_REASON         483176    96.6352\n",
      "26     AIR_SYSTEM_DELAY         397701    79.5402\n",
      "27       SECURITY_DELAY         397701    79.5402\n",
      "28        AIRLINE_DELAY         397701    79.5402\n",
      "29  LATE_AIRCRAFT_DELAY         397701    79.5402\n",
      "30        WEATHER_DELAY         397701    79.5402\n",
      "0:00:00.869015\n"
     ]
    }
   ],
   "source": [
    "ut.missingPercent(dfFlight)"
   ]
  },
  {
   "cell_type": "code",
   "execution_count": 4,
   "metadata": {},
   "outputs": [
    {
     "name": "stdout",
     "output_type": "stream",
     "text": [
      "(500000, 31)\n",
      "(500000, 23)\n"
     ]
    }
   ],
   "source": [
    "print(dfFlight.shape)\n",
    "# Removing because  We have drive the Flight_Delay  from  ARRIVAL_DELAY. So Arrival_Delay is no relevent more.\n",
    "variables_to_remove = ['FLIGHT_NUMBER', 'TAIL_NUMBER', 'CANCELLATION_REASON', 'AIR_SYSTEM_DELAY', 'SECURITY_DELAY',\n",
    "                       'AIRLINE_DELAY', 'LATE_AIRCRAFT_DELAY', 'WEATHER_DELAY']\n",
    "dfFlight.drop(variables_to_remove, axis=1, inplace=True)\n",
    "print(dfFlight.shape)\n"
   ]
  },
  {
   "cell_type": "code",
   "execution_count": 5,
   "metadata": {},
   "outputs": [],
   "source": [
    "# dfFlight=dfFlight.iloc[:10,:]\n",
    "# dfFlight.columns"
   ]
  },
  {
   "cell_type": "markdown",
   "metadata": {},
   "source": [
    "#### Arriaval Delay is difference between \t`SCHEDULED_ARRIVAL`  and `ARRIVAL_TIME` "
   ]
  },
  {
   "cell_type": "code",
   "execution_count": 6,
   "metadata": {},
   "outputs": [
    {
     "name": "stdout",
     "output_type": "stream",
     "text": [
      "(500000, 24)\n",
      "0:00:00.276908\n"
     ]
    }
   ],
   "source": [
    "t2=dt.now()\n",
    "dfFlight['FLIGHT_DELAY'] = dfFlight['ARRIVAL_DELAY'].map( lambda x : 'YES' if x>0 else 'NO')\n",
    "print(dfFlight.shape)\n",
    "print(dt.now() -t2)"
   ]
  },
  {
   "cell_type": "code",
   "execution_count": 7,
   "metadata": {},
   "outputs": [
    {
     "name": "stdout",
     "output_type": "stream",
     "text": [
      "0:00:00.836532\n"
     ]
    }
   ],
   "source": [
    "t3=dt.now()\n",
    "dfFlight['FLIGHT_DATE'] = pd.to_datetime(dfFlight[['YEAR', 'MONTH', 'DAY']])\n",
    "print(dt.now() -t3)"
   ]
  },
  {
   "cell_type": "code",
   "execution_count": 8,
   "metadata": {},
   "outputs": [
    {
     "name": "stdout",
     "output_type": "stream",
     "text": [
      "0:02:37.837315\n"
     ]
    }
   ],
   "source": [
    "t4=dt.now()\n",
    "dfFlight['SCHEDULED_DEPARTURE'] = dfFlight.apply(concat_date_time, axis=1)\n",
    "print(dt.now() -t4)"
   ]
  },
  {
   "cell_type": "code",
   "execution_count": 9,
   "metadata": {},
   "outputs": [
    {
     "name": "stdout",
     "output_type": "stream",
     "text": [
      "0:00:52.450534\n"
     ]
    }
   ],
   "source": [
    "t5=dt.now()\n",
    "dfFlight['DEPARTURE_TIME'] = dfFlight['DEPARTURE_TIME'].map(convert_time)\n",
    "print(dt.now() -t5)"
   ]
  },
  {
   "cell_type": "code",
   "execution_count": 10,
   "metadata": {},
   "outputs": [
    {
     "name": "stdout",
     "output_type": "stream",
     "text": [
      "Index(['YEAR', 'MONTH', 'DAY', 'DAY_OF_WEEK', 'AIRLINE', 'ORIGIN_AIRPORT',\n",
      "       'DESTINATION_AIRPORT', 'SCHEDULED_DEPARTURE', 'DEPARTURE_TIME',\n",
      "       'DEPARTURE_DELAY', 'TAXI_OUT', 'WHEELS_OFF', 'SCHEDULED_TIME',\n",
      "       'ELAPSED_TIME', 'AIR_TIME', 'DISTANCE', 'WHEELS_ON', 'TAXI_IN',\n",
      "       'SCHEDULED_ARRIVAL', 'ARRIVAL_TIME', 'ARRIVAL_DELAY', 'DIVERTED',\n",
      "       'CANCELLED', 'FLIGHT_DELAY', 'FLIGHT_DATE'],\n",
      "      dtype='object')\n",
      "(500000, 25)\n",
      "0:01:21.242884\n"
     ]
    }
   ],
   "source": [
    "t6=dt.now()\n",
    "dfFlight['SCHEDULED_ARRIVAL'] =  dfFlight.apply(concat_date_time_ARRIVAL, axis=1)\n",
    "print(dfFlight.columns)\n",
    "print(dfFlight.shape)\n",
    "print(dt.now() -t6)"
   ]
  },
  {
   "cell_type": "code",
   "execution_count": 12,
   "metadata": {},
   "outputs": [
    {
     "ename": "ValueError",
     "evalue": "(\"time data '00:61:00' does not match format '%H:%M:%S' (match)\", 'occurred at index 502')",
     "output_type": "error",
     "traceback": [
      "\u001b[1;31m---------------------------------------------------------------------------\u001b[0m",
      "\u001b[1;31mTypeError\u001b[0m                                 Traceback (most recent call last)",
      "\u001b[1;32m~\\AppData\\Local\\Continuum\\anaconda3\\envs\\MLND_AI\\lib\\site-packages\\pandas\\core\\tools\\datetimes.py\u001b[0m in \u001b[0;36m_convert_listlike\u001b[1;34m(arg, box, format, name, tz)\u001b[0m\n\u001b[0;32m    376\u001b[0m             \u001b[1;32mtry\u001b[0m\u001b[1;33m:\u001b[0m\u001b[1;33m\u001b[0m\u001b[1;33m\u001b[0m\u001b[0m\n\u001b[1;32m--> 377\u001b[1;33m                 \u001b[0mvalues\u001b[0m\u001b[1;33m,\u001b[0m \u001b[0mtz\u001b[0m \u001b[1;33m=\u001b[0m \u001b[0mconversion\u001b[0m\u001b[1;33m.\u001b[0m\u001b[0mdatetime_to_datetime64\u001b[0m\u001b[1;33m(\u001b[0m\u001b[0marg\u001b[0m\u001b[1;33m)\u001b[0m\u001b[1;33m\u001b[0m\u001b[1;33m\u001b[0m\u001b[0m\n\u001b[0m\u001b[0;32m    378\u001b[0m                 \u001b[1;32mreturn\u001b[0m \u001b[0mDatetimeIndex\u001b[0m\u001b[1;33m.\u001b[0m\u001b[0m_simple_new\u001b[0m\u001b[1;33m(\u001b[0m\u001b[0mvalues\u001b[0m\u001b[1;33m,\u001b[0m \u001b[0mname\u001b[0m\u001b[1;33m=\u001b[0m\u001b[0mname\u001b[0m\u001b[1;33m,\u001b[0m \u001b[0mtz\u001b[0m\u001b[1;33m=\u001b[0m\u001b[0mtz\u001b[0m\u001b[1;33m)\u001b[0m\u001b[1;33m\u001b[0m\u001b[1;33m\u001b[0m\u001b[0m\n",
      "\u001b[1;32mpandas\\_libs\\tslibs\\conversion.pyx\u001b[0m in \u001b[0;36mpandas._libs.tslibs.conversion.datetime_to_datetime64\u001b[1;34m()\u001b[0m\n",
      "\u001b[1;31mTypeError\u001b[0m: Unrecognized value type: <class 'str'>",
      "\nDuring handling of the above exception, another exception occurred:\n",
      "\u001b[1;31mValueError\u001b[0m                                Traceback (most recent call last)",
      "\u001b[1;32m<ipython-input-12-698e795a4b04>\u001b[0m in \u001b[0;36m<module>\u001b[1;34m\u001b[0m\n\u001b[0;32m      1\u001b[0m \u001b[0mt6\u001b[0m\u001b[1;33m=\u001b[0m\u001b[0mdt\u001b[0m\u001b[1;33m.\u001b[0m\u001b[0mnow\u001b[0m\u001b[1;33m(\u001b[0m\u001b[1;33m)\u001b[0m\u001b[1;33m\u001b[0m\u001b[1;33m\u001b[0m\u001b[0m\n\u001b[1;32m----> 2\u001b[1;33m \u001b[0mdfFlight\u001b[0m\u001b[1;33m[\u001b[0m\u001b[1;34m'TAXI_OUT'\u001b[0m\u001b[1;33m]\u001b[0m \u001b[1;33m=\u001b[0m  \u001b[0mdfFlight\u001b[0m\u001b[1;33m.\u001b[0m\u001b[0mapply\u001b[0m\u001b[1;33m(\u001b[0m\u001b[0mconcat_date_time_TaxiOut\u001b[0m\u001b[1;33m,\u001b[0m \u001b[0maxis\u001b[0m\u001b[1;33m=\u001b[0m\u001b[1;36m1\u001b[0m\u001b[1;33m)\u001b[0m\u001b[1;33m\u001b[0m\u001b[1;33m\u001b[0m\u001b[0m\n\u001b[0m\u001b[0;32m      3\u001b[0m \u001b[0mprint\u001b[0m\u001b[1;33m(\u001b[0m\u001b[0mdfFlight\u001b[0m\u001b[1;33m.\u001b[0m\u001b[0mcolumns\u001b[0m\u001b[1;33m)\u001b[0m\u001b[1;33m\u001b[0m\u001b[1;33m\u001b[0m\u001b[0m\n\u001b[0;32m      4\u001b[0m \u001b[0mprint\u001b[0m\u001b[1;33m(\u001b[0m\u001b[0mdfFlight\u001b[0m\u001b[1;33m.\u001b[0m\u001b[0mshape\u001b[0m\u001b[1;33m)\u001b[0m\u001b[1;33m\u001b[0m\u001b[1;33m\u001b[0m\u001b[0m\n\u001b[0;32m      5\u001b[0m \u001b[0mprint\u001b[0m\u001b[1;33m(\u001b[0m\u001b[0mdt\u001b[0m\u001b[1;33m.\u001b[0m\u001b[0mnow\u001b[0m\u001b[1;33m(\u001b[0m\u001b[1;33m)\u001b[0m \u001b[1;33m-\u001b[0m\u001b[0mt6\u001b[0m\u001b[1;33m)\u001b[0m\u001b[1;33m\u001b[0m\u001b[1;33m\u001b[0m\u001b[0m\n",
      "\u001b[1;32m~\\AppData\\Local\\Continuum\\anaconda3\\envs\\MLND_AI\\lib\\site-packages\\pandas\\core\\frame.py\u001b[0m in \u001b[0;36mapply\u001b[1;34m(self, func, axis, broadcast, raw, reduce, result_type, args, **kwds)\u001b[0m\n\u001b[0;32m   6012\u001b[0m                          \u001b[0margs\u001b[0m\u001b[1;33m=\u001b[0m\u001b[0margs\u001b[0m\u001b[1;33m,\u001b[0m\u001b[1;33m\u001b[0m\u001b[1;33m\u001b[0m\u001b[0m\n\u001b[0;32m   6013\u001b[0m                          kwds=kwds)\n\u001b[1;32m-> 6014\u001b[1;33m         \u001b[1;32mreturn\u001b[0m \u001b[0mop\u001b[0m\u001b[1;33m.\u001b[0m\u001b[0mget_result\u001b[0m\u001b[1;33m(\u001b[0m\u001b[1;33m)\u001b[0m\u001b[1;33m\u001b[0m\u001b[1;33m\u001b[0m\u001b[0m\n\u001b[0m\u001b[0;32m   6015\u001b[0m \u001b[1;33m\u001b[0m\u001b[0m\n\u001b[0;32m   6016\u001b[0m     \u001b[1;32mdef\u001b[0m \u001b[0mapplymap\u001b[0m\u001b[1;33m(\u001b[0m\u001b[0mself\u001b[0m\u001b[1;33m,\u001b[0m \u001b[0mfunc\u001b[0m\u001b[1;33m)\u001b[0m\u001b[1;33m:\u001b[0m\u001b[1;33m\u001b[0m\u001b[1;33m\u001b[0m\u001b[0m\n",
      "\u001b[1;32m~\\AppData\\Local\\Continuum\\anaconda3\\envs\\MLND_AI\\lib\\site-packages\\pandas\\core\\apply.py\u001b[0m in \u001b[0;36mget_result\u001b[1;34m(self)\u001b[0m\n\u001b[0;32m    140\u001b[0m             \u001b[1;32mreturn\u001b[0m \u001b[0mself\u001b[0m\u001b[1;33m.\u001b[0m\u001b[0mapply_raw\u001b[0m\u001b[1;33m(\u001b[0m\u001b[1;33m)\u001b[0m\u001b[1;33m\u001b[0m\u001b[1;33m\u001b[0m\u001b[0m\n\u001b[0;32m    141\u001b[0m \u001b[1;33m\u001b[0m\u001b[0m\n\u001b[1;32m--> 142\u001b[1;33m         \u001b[1;32mreturn\u001b[0m \u001b[0mself\u001b[0m\u001b[1;33m.\u001b[0m\u001b[0mapply_standard\u001b[0m\u001b[1;33m(\u001b[0m\u001b[1;33m)\u001b[0m\u001b[1;33m\u001b[0m\u001b[1;33m\u001b[0m\u001b[0m\n\u001b[0m\u001b[0;32m    143\u001b[0m \u001b[1;33m\u001b[0m\u001b[0m\n\u001b[0;32m    144\u001b[0m     \u001b[1;32mdef\u001b[0m \u001b[0mapply_empty_result\u001b[0m\u001b[1;33m(\u001b[0m\u001b[0mself\u001b[0m\u001b[1;33m)\u001b[0m\u001b[1;33m:\u001b[0m\u001b[1;33m\u001b[0m\u001b[1;33m\u001b[0m\u001b[0m\n",
      "\u001b[1;32m~\\AppData\\Local\\Continuum\\anaconda3\\envs\\MLND_AI\\lib\\site-packages\\pandas\\core\\apply.py\u001b[0m in \u001b[0;36mapply_standard\u001b[1;34m(self)\u001b[0m\n\u001b[0;32m    246\u001b[0m \u001b[1;33m\u001b[0m\u001b[0m\n\u001b[0;32m    247\u001b[0m         \u001b[1;31m# compute the result using the series generator\u001b[0m\u001b[1;33m\u001b[0m\u001b[1;33m\u001b[0m\u001b[1;33m\u001b[0m\u001b[0m\n\u001b[1;32m--> 248\u001b[1;33m         \u001b[0mself\u001b[0m\u001b[1;33m.\u001b[0m\u001b[0mapply_series_generator\u001b[0m\u001b[1;33m(\u001b[0m\u001b[1;33m)\u001b[0m\u001b[1;33m\u001b[0m\u001b[1;33m\u001b[0m\u001b[0m\n\u001b[0m\u001b[0;32m    249\u001b[0m \u001b[1;33m\u001b[0m\u001b[0m\n\u001b[0;32m    250\u001b[0m         \u001b[1;31m# wrap results\u001b[0m\u001b[1;33m\u001b[0m\u001b[1;33m\u001b[0m\u001b[1;33m\u001b[0m\u001b[0m\n",
      "\u001b[1;32m~\\AppData\\Local\\Continuum\\anaconda3\\envs\\MLND_AI\\lib\\site-packages\\pandas\\core\\apply.py\u001b[0m in \u001b[0;36mapply_series_generator\u001b[1;34m(self)\u001b[0m\n\u001b[0;32m    275\u001b[0m             \u001b[1;32mtry\u001b[0m\u001b[1;33m:\u001b[0m\u001b[1;33m\u001b[0m\u001b[1;33m\u001b[0m\u001b[0m\n\u001b[0;32m    276\u001b[0m                 \u001b[1;32mfor\u001b[0m \u001b[0mi\u001b[0m\u001b[1;33m,\u001b[0m \u001b[0mv\u001b[0m \u001b[1;32min\u001b[0m \u001b[0menumerate\u001b[0m\u001b[1;33m(\u001b[0m\u001b[0mseries_gen\u001b[0m\u001b[1;33m)\u001b[0m\u001b[1;33m:\u001b[0m\u001b[1;33m\u001b[0m\u001b[1;33m\u001b[0m\u001b[0m\n\u001b[1;32m--> 277\u001b[1;33m                     \u001b[0mresults\u001b[0m\u001b[1;33m[\u001b[0m\u001b[0mi\u001b[0m\u001b[1;33m]\u001b[0m \u001b[1;33m=\u001b[0m \u001b[0mself\u001b[0m\u001b[1;33m.\u001b[0m\u001b[0mf\u001b[0m\u001b[1;33m(\u001b[0m\u001b[0mv\u001b[0m\u001b[1;33m)\u001b[0m\u001b[1;33m\u001b[0m\u001b[1;33m\u001b[0m\u001b[0m\n\u001b[0m\u001b[0;32m    278\u001b[0m                     \u001b[0mkeys\u001b[0m\u001b[1;33m.\u001b[0m\u001b[0mappend\u001b[0m\u001b[1;33m(\u001b[0m\u001b[0mv\u001b[0m\u001b[1;33m.\u001b[0m\u001b[0mname\u001b[0m\u001b[1;33m)\u001b[0m\u001b[1;33m\u001b[0m\u001b[1;33m\u001b[0m\u001b[0m\n\u001b[0;32m    279\u001b[0m             \u001b[1;32mexcept\u001b[0m \u001b[0mException\u001b[0m \u001b[1;32mas\u001b[0m \u001b[0me\u001b[0m\u001b[1;33m:\u001b[0m\u001b[1;33m\u001b[0m\u001b[1;33m\u001b[0m\u001b[0m\n",
      "\u001b[1;32mC:\\GIT\\MLND\\Capstone\\Flight-Delay-OR-Cancellations\\utils\\MlUtils.py\u001b[0m in \u001b[0;36mconcat_date_time_TaxiOut\u001b[1;34m(rawrow)\u001b[0m\n\u001b[0;32m    109\u001b[0m         \u001b[0mrowtime\u001b[0m \u001b[1;33m=\u001b[0m \u001b[0mrawrow\u001b[0m\u001b[1;33m[\u001b[0m\u001b[1;34m'TAXI_OUT'\u001b[0m\u001b[1;33m]\u001b[0m\u001b[1;33m\u001b[0m\u001b[1;33m\u001b[0m\u001b[0m\n\u001b[0;32m    110\u001b[0m         \u001b[1;32mif\u001b[0m \u001b[0mrowtime\u001b[0m \u001b[1;33m!=\u001b[0m \u001b[1;36m2400\u001b[0m\u001b[1;33m:\u001b[0m\u001b[1;33m\u001b[0m\u001b[1;33m\u001b[0m\u001b[0m\n\u001b[1;32m--> 111\u001b[1;33m             \u001b[0mstr_time\u001b[0m \u001b[1;33m=\u001b[0m \u001b[0mconvert_time\u001b[0m\u001b[1;33m(\u001b[0m\u001b[0mrowtime\u001b[0m\u001b[1;33m)\u001b[0m\u001b[1;33m\u001b[0m\u001b[1;33m\u001b[0m\u001b[0m\n\u001b[0m\u001b[0;32m    112\u001b[0m             \u001b[1;31m#            print('str_time {} '.format(str_time))\u001b[0m\u001b[1;33m\u001b[0m\u001b[1;33m\u001b[0m\u001b[1;33m\u001b[0m\u001b[0m\n\u001b[0;32m    113\u001b[0m             \u001b[1;32mreturn\u001b[0m \u001b[0mpd\u001b[0m\u001b[1;33m.\u001b[0m\u001b[0mdatetime\u001b[0m\u001b[1;33m.\u001b[0m\u001b[0mcombine\u001b[0m\u001b[1;33m(\u001b[0m\u001b[0mrawrow\u001b[0m\u001b[1;33m[\u001b[0m\u001b[1;34m'FLIGHT_DATE'\u001b[0m\u001b[1;33m]\u001b[0m\u001b[1;33m,\u001b[0m \u001b[0mstr_time\u001b[0m\u001b[1;33m)\u001b[0m\u001b[1;33m\u001b[0m\u001b[1;33m\u001b[0m\u001b[0m\n",
      "\u001b[1;32mC:\\GIT\\MLND\\Capstone\\Flight-Delay-OR-Cancellations\\utils\\MlUtils.py\u001b[0m in \u001b[0;36mconvert_time\u001b[1;34m(rawtime)\u001b[0m\n\u001b[0;32m     59\u001b[0m             \u001b[0mrawtime\u001b[0m \u001b[1;33m=\u001b[0m \u001b[0mrawtime\u001b[0m\u001b[1;33m[\u001b[0m\u001b[1;33m:\u001b[0m\u001b[1;36m2\u001b[0m\u001b[1;33m]\u001b[0m \u001b[1;33m+\u001b[0m \u001b[1;34m':'\u001b[0m \u001b[1;33m+\u001b[0m \u001b[0mrawtime\u001b[0m\u001b[1;33m[\u001b[0m\u001b[1;36m2\u001b[0m\u001b[1;33m:\u001b[0m\u001b[1;36m4\u001b[0m\u001b[1;33m]\u001b[0m \u001b[1;33m+\u001b[0m \u001b[1;34m':00'\u001b[0m\u001b[1;33m\u001b[0m\u001b[1;33m\u001b[0m\u001b[0m\n\u001b[0;32m     60\u001b[0m             \u001b[1;31m# print(\"rawtime {}\".format(rawtime))\u001b[0m\u001b[1;33m\u001b[0m\u001b[1;33m\u001b[0m\u001b[1;33m\u001b[0m\u001b[0m\n\u001b[1;32m---> 61\u001b[1;33m             \u001b[0mrawtime\u001b[0m \u001b[1;33m=\u001b[0m \u001b[0mpd\u001b[0m\u001b[1;33m.\u001b[0m\u001b[0mto_datetime\u001b[0m\u001b[1;33m(\u001b[0m\u001b[0mrawtime\u001b[0m\u001b[1;33m,\u001b[0m \u001b[0mformat\u001b[0m\u001b[1;33m=\u001b[0m\u001b[1;34m'%H:%M:%S'\u001b[0m\u001b[1;33m)\u001b[0m\u001b[1;33m.\u001b[0m\u001b[0mtime\u001b[0m\u001b[1;33m(\u001b[0m\u001b[1;33m)\u001b[0m\u001b[1;33m\u001b[0m\u001b[1;33m\u001b[0m\u001b[0m\n\u001b[0m\u001b[0;32m     62\u001b[0m             \u001b[1;32mreturn\u001b[0m \u001b[0mrawtime\u001b[0m\u001b[1;33m\u001b[0m\u001b[1;33m\u001b[0m\u001b[0m\n\u001b[0;32m     63\u001b[0m \u001b[1;33m\u001b[0m\u001b[0m\n",
      "\u001b[1;32m~\\AppData\\Local\\Continuum\\anaconda3\\envs\\MLND_AI\\lib\\site-packages\\pandas\\core\\tools\\datetimes.py\u001b[0m in \u001b[0;36mto_datetime\u001b[1;34m(arg, errors, dayfirst, yearfirst, utc, box, format, exact, unit, infer_datetime_format, origin, cache)\u001b[0m\n\u001b[0;32m    467\u001b[0m             \u001b[0mresult\u001b[0m \u001b[1;33m=\u001b[0m \u001b[0m_convert_listlike\u001b[0m\u001b[1;33m(\u001b[0m\u001b[0marg\u001b[0m\u001b[1;33m,\u001b[0m \u001b[0mbox\u001b[0m\u001b[1;33m,\u001b[0m \u001b[0mformat\u001b[0m\u001b[1;33m)\u001b[0m\u001b[1;33m\u001b[0m\u001b[1;33m\u001b[0m\u001b[0m\n\u001b[0;32m    468\u001b[0m     \u001b[1;32melse\u001b[0m\u001b[1;33m:\u001b[0m\u001b[1;33m\u001b[0m\u001b[1;33m\u001b[0m\u001b[0m\n\u001b[1;32m--> 469\u001b[1;33m         \u001b[0mresult\u001b[0m \u001b[1;33m=\u001b[0m \u001b[0m_convert_listlike\u001b[0m\u001b[1;33m(\u001b[0m\u001b[0mnp\u001b[0m\u001b[1;33m.\u001b[0m\u001b[0marray\u001b[0m\u001b[1;33m(\u001b[0m\u001b[1;33m[\u001b[0m\u001b[0marg\u001b[0m\u001b[1;33m]\u001b[0m\u001b[1;33m)\u001b[0m\u001b[1;33m,\u001b[0m \u001b[0mbox\u001b[0m\u001b[1;33m,\u001b[0m \u001b[0mformat\u001b[0m\u001b[1;33m)\u001b[0m\u001b[1;33m[\u001b[0m\u001b[1;36m0\u001b[0m\u001b[1;33m]\u001b[0m\u001b[1;33m\u001b[0m\u001b[1;33m\u001b[0m\u001b[0m\n\u001b[0m\u001b[0;32m    470\u001b[0m \u001b[1;33m\u001b[0m\u001b[0m\n\u001b[0;32m    471\u001b[0m     \u001b[1;32mreturn\u001b[0m \u001b[0mresult\u001b[0m\u001b[1;33m\u001b[0m\u001b[1;33m\u001b[0m\u001b[0m\n",
      "\u001b[1;32m~\\AppData\\Local\\Continuum\\anaconda3\\envs\\MLND_AI\\lib\\site-packages\\pandas\\core\\tools\\datetimes.py\u001b[0m in \u001b[0;36m_convert_listlike\u001b[1;34m(arg, box, format, name, tz)\u001b[0m\n\u001b[0;32m    378\u001b[0m                 \u001b[1;32mreturn\u001b[0m \u001b[0mDatetimeIndex\u001b[0m\u001b[1;33m.\u001b[0m\u001b[0m_simple_new\u001b[0m\u001b[1;33m(\u001b[0m\u001b[0mvalues\u001b[0m\u001b[1;33m,\u001b[0m \u001b[0mname\u001b[0m\u001b[1;33m=\u001b[0m\u001b[0mname\u001b[0m\u001b[1;33m,\u001b[0m \u001b[0mtz\u001b[0m\u001b[1;33m=\u001b[0m\u001b[0mtz\u001b[0m\u001b[1;33m)\u001b[0m\u001b[1;33m\u001b[0m\u001b[1;33m\u001b[0m\u001b[0m\n\u001b[0;32m    379\u001b[0m             \u001b[1;32mexcept\u001b[0m \u001b[1;33m(\u001b[0m\u001b[0mValueError\u001b[0m\u001b[1;33m,\u001b[0m \u001b[0mTypeError\u001b[0m\u001b[1;33m)\u001b[0m\u001b[1;33m:\u001b[0m\u001b[1;33m\u001b[0m\u001b[1;33m\u001b[0m\u001b[0m\n\u001b[1;32m--> 380\u001b[1;33m                 \u001b[1;32mraise\u001b[0m \u001b[0me\u001b[0m\u001b[1;33m\u001b[0m\u001b[1;33m\u001b[0m\u001b[0m\n\u001b[0m\u001b[0;32m    381\u001b[0m \u001b[1;33m\u001b[0m\u001b[0m\n\u001b[0;32m    382\u001b[0m     \u001b[1;32mif\u001b[0m \u001b[0marg\u001b[0m \u001b[1;32mis\u001b[0m \u001b[1;32mNone\u001b[0m\u001b[1;33m:\u001b[0m\u001b[1;33m\u001b[0m\u001b[1;33m\u001b[0m\u001b[0m\n",
      "\u001b[1;32m~\\AppData\\Local\\Continuum\\anaconda3\\envs\\MLND_AI\\lib\\site-packages\\pandas\\core\\tools\\datetimes.py\u001b[0m in \u001b[0;36m_convert_listlike\u001b[1;34m(arg, box, format, name, tz)\u001b[0m\n\u001b[0;32m    345\u001b[0m                     \u001b[1;32mtry\u001b[0m\u001b[1;33m:\u001b[0m\u001b[1;33m\u001b[0m\u001b[1;33m\u001b[0m\u001b[0m\n\u001b[0;32m    346\u001b[0m                         result = array_strptime(arg, format, exact=exact,\n\u001b[1;32m--> 347\u001b[1;33m                                                 errors=errors)\n\u001b[0m\u001b[0;32m    348\u001b[0m                     \u001b[1;32mexcept\u001b[0m \u001b[0mtslib\u001b[0m\u001b[1;33m.\u001b[0m\u001b[0mOutOfBoundsDatetime\u001b[0m\u001b[1;33m:\u001b[0m\u001b[1;33m\u001b[0m\u001b[1;33m\u001b[0m\u001b[0m\n\u001b[0;32m    349\u001b[0m                         \u001b[1;32mif\u001b[0m \u001b[0merrors\u001b[0m \u001b[1;33m==\u001b[0m \u001b[1;34m'raise'\u001b[0m\u001b[1;33m:\u001b[0m\u001b[1;33m\u001b[0m\u001b[1;33m\u001b[0m\u001b[0m\n",
      "\u001b[1;32mpandas\\_libs\\tslibs\\strptime.pyx\u001b[0m in \u001b[0;36mpandas._libs.tslibs.strptime.array_strptime\u001b[1;34m()\u001b[0m\n",
      "\u001b[1;31mValueError\u001b[0m: (\"time data '00:61:00' does not match format '%H:%M:%S' (match)\", 'occurred at index 502')"
     ]
    }
   ],
   "source": [
    "t6=dt.now()\n",
    "dfFlight['TAXI_OUT'] =  dfFlight.apply(concat_date_time_TaxiOut, axis=1)\n",
    "print(dfFlight.columns)\n",
    "print(dfFlight.shape)\n",
    "print(dt.now() -t6)"
   ]
  },
  {
   "cell_type": "markdown",
   "metadata": {},
   "source": [
    "### Percentage of missing values per columns"
   ]
  },
  {
   "cell_type": "code",
   "execution_count": null,
   "metadata": {},
   "outputs": [],
   "source": [
    "ut.missingPercent(dfFlight)"
   ]
  },
  {
   "cell_type": "markdown",
   "metadata": {},
   "source": [
    "### Removing Features which are not more relevant to our model \n",
    "___\n",
    "- `ARRIVAL_DELAY` : Drived `FLIGHT_DELAY`\n",
    "- `YEAR`, `MONTH`, `DAY` : We drived anohter feature by using them, So i am going to remove them.\n",
    "- `FLIGHT_NUMBER` : It's flight number like other vehical number. it\n",
    "- `TAIL_NUMBER` : It's unique identifier for Aircraft. It's called Aircart registration number. \n",
    "- `CANCELLATION_REASON` , `AIR_SYSTEM_DELAY` , `SECURITY_DELAY`, `AIRLINE_DELAY`, `LATE_AIRCRAFT_DELAY`, `WEATHER_DELAY` :  Aprox 82% value are missing for these features. \n",
    "- `AIR_TIME` : This will be populated after landing. So it's not important feature for our model.\n",
    "- `FLIGHT_DATE` : Not relevent \n",
    "- `ARRIVAL_TIME` ,`WHEELS_ON`, `TAXI_IN` , `CANCELLED` : This will be populated after landing on airport.\n",
    "\n",
    "- `WHEELS_ON` : The time point that the aircraft's wheels touch on the ground\n",
    "- `TAXI_IN` : The time duration elapsed between wheels-on and gate arrival at the destination airport\n",
    "- `ARRIVAL_TIME` : WHEELS_ON+TAXI_IN\n",
    "\n",
    "- `ELAPSED_TIME` : AIR_TIME+TAXI_IN+TAXI_OUT\n",
    " "
   ]
  },
  {
   "cell_type": "code",
   "execution_count": 13,
   "metadata": {},
   "outputs": [
    {
     "name": "stdout",
     "output_type": "stream",
     "text": [
      "(500000, 14)\n"
     ]
    }
   ],
   "source": [
    "# Removing because  We have drive the Flight_Delay  from  ARRIVAL_DELAY. So Arrival_Delay is no relevent more.\n",
    "variables_to_remove=['ARRIVAL_DELAY','YEAR', 'MONTH', 'DAY', 'ELAPSED_TIME' , 'AIR_TIME',\n",
    "                     'FLIGHT_DATE','ARRIVAL_TIME' , 'WHEELS_ON', 'TAXI_IN','CANCELLED']\n",
    "# variables_to_remove = [ 'DAY_OF_WEEK',  'TAXI_OUT', 'TAXI_IN', 'WHEELS_ON', 'WHEELS_OFF',  'DIVERTED', 'CANCELLED']\n",
    "dfFlight.drop(variables_to_remove, axis=1, inplace=True)\n",
    "print(dfFlight.shape)"
   ]
  },
  {
   "cell_type": "code",
   "execution_count": 14,
   "metadata": {},
   "outputs": [
    {
     "data": {
      "text/plain": [
       "Index(['DAY_OF_WEEK', 'AIRLINE', 'ORIGIN_AIRPORT', 'DESTINATION_AIRPORT',\n",
       "       'SCHEDULED_DEPARTURE', 'DEPARTURE_TIME', 'DEPARTURE_DELAY', 'TAXI_OUT',\n",
       "       'WHEELS_OFF', 'SCHEDULED_TIME', 'DISTANCE', 'SCHEDULED_ARRIVAL',\n",
       "       'DIVERTED', 'FLIGHT_DELAY'],\n",
       "      dtype='object')"
      ]
     },
     "execution_count": 14,
     "metadata": {},
     "output_type": "execute_result"
    }
   ],
   "source": [
    "dfFlight.columns"
   ]
  },
  {
   "cell_type": "markdown",
   "metadata": {},
   "source": [
    "### Data verification realated to Imbalance or Balance\n",
    "----"
   ]
  },
  {
   "cell_type": "code",
   "execution_count": 15,
   "metadata": {},
   "outputs": [
    {
     "data": {
      "text/html": [
       "<div>\n",
       "<style scoped>\n",
       "    .dataframe tbody tr th:only-of-type {\n",
       "        vertical-align: middle;\n",
       "    }\n",
       "\n",
       "    .dataframe tbody tr th {\n",
       "        vertical-align: top;\n",
       "    }\n",
       "\n",
       "    .dataframe thead th {\n",
       "        text-align: right;\n",
       "    }\n",
       "</style>\n",
       "<table border=\"1\" class=\"dataframe\">\n",
       "  <thead>\n",
       "    <tr style=\"text-align: right;\">\n",
       "      <th></th>\n",
       "      <th>FLIGHT_DELAY_CLASS</th>\n",
       "      <th>COUNT_PER_CLASS</th>\n",
       "    </tr>\n",
       "  </thead>\n",
       "  <tbody>\n",
       "    <tr>\n",
       "      <th>0</th>\n",
       "      <td>NO</td>\n",
       "      <td>305778</td>\n",
       "    </tr>\n",
       "    <tr>\n",
       "      <th>1</th>\n",
       "      <td>YES</td>\n",
       "      <td>194222</td>\n",
       "    </tr>\n",
       "  </tbody>\n",
       "</table>\n",
       "</div>"
      ],
      "text/plain": [
       "  FLIGHT_DELAY_CLASS  COUNT_PER_CLASS\n",
       "0                 NO           305778\n",
       "1                YES           194222"
      ]
     },
     "execution_count": 15,
     "metadata": {},
     "output_type": "execute_result"
    }
   ],
   "source": [
    "# Calculate Count of classes per class\n",
    "dfDelayClass=dfFlight['FLIGHT_DELAY'].T.value_counts().reset_index() \n",
    "dfDelayClass.columns=[\"FLIGHT_DELAY_CLASS\",\"COUNT_PER_CLASS\"]\n",
    "dfDelayClass"
   ]
  },
  {
   "cell_type": "code",
   "execution_count": 16,
   "metadata": {},
   "outputs": [
    {
     "data": {
      "text/html": [
       "<div>\n",
       "<style scoped>\n",
       "    .dataframe tbody tr th:only-of-type {\n",
       "        vertical-align: middle;\n",
       "    }\n",
       "\n",
       "    .dataframe tbody tr th {\n",
       "        vertical-align: top;\n",
       "    }\n",
       "\n",
       "    .dataframe thead th {\n",
       "        text-align: right;\n",
       "    }\n",
       "</style>\n",
       "<table border=\"1\" class=\"dataframe\">\n",
       "  <thead>\n",
       "    <tr style=\"text-align: right;\">\n",
       "      <th></th>\n",
       "      <th>FLIGHT_DELAY_CLASS</th>\n",
       "      <th>COUNT_PER_CLASS</th>\n",
       "      <th>%_PER_CLASS</th>\n",
       "    </tr>\n",
       "  </thead>\n",
       "  <tbody>\n",
       "    <tr>\n",
       "      <th>0</th>\n",
       "      <td>NO</td>\n",
       "      <td>305778</td>\n",
       "      <td>61.1556</td>\n",
       "    </tr>\n",
       "    <tr>\n",
       "      <th>1</th>\n",
       "      <td>YES</td>\n",
       "      <td>194222</td>\n",
       "      <td>38.8444</td>\n",
       "    </tr>\n",
       "  </tbody>\n",
       "</table>\n",
       "</div>"
      ],
      "text/plain": [
       "  FLIGHT_DELAY_CLASS  COUNT_PER_CLASS  %_PER_CLASS\n",
       "0                 NO           305778      61.1556\n",
       "1                YES           194222      38.8444"
      ]
     },
     "execution_count": 16,
     "metadata": {},
     "output_type": "execute_result"
    }
   ],
   "source": [
    "dfDelayClass['%_PER_CLASS']=dfDelayClass['COUNT_PER_CLASS'].map(ut.Missing_Count)\n",
    "# dMissing_CountfDelayClass\n",
    "dfDelayClass"
   ]
  },
  {
   "cell_type": "code",
   "execution_count": 17,
   "metadata": {},
   "outputs": [
    {
     "name": "stdout",
     "output_type": "stream",
     "text": [
      "                Feature  Missing_Count  Missing_%\n",
      "0           DAY_OF_WEEK              0     0.0000\n",
      "1               AIRLINE              0     0.0000\n",
      "2        ORIGIN_AIRPORT              0     0.0000\n",
      "3   DESTINATION_AIRPORT              0     0.0000\n",
      "4   SCHEDULED_DEPARTURE              0     0.0000\n",
      "5        DEPARTURE_TIME          16451     3.2902\n",
      "6       DEPARTURE_DELAY          16416     3.2832\n",
      "7              TAXI_OUT          16704     3.3408\n",
      "8            WHEELS_OFF          16704     3.3408\n",
      "9        SCHEDULED_TIME              1     0.0002\n",
      "10             DISTANCE              0     0.0000\n",
      "11    SCHEDULED_ARRIVAL              0     0.0000\n",
      "12             DIVERTED              0     0.0000\n",
      "13         FLIGHT_DELAY              0     0.0000\n",
      "0:00:00.230739\n"
     ]
    }
   ],
   "source": [
    "ut.missingPercent(dfFlight=dfFlight)"
   ]
  },
  {
   "cell_type": "code",
   "execution_count": 18,
   "metadata": {},
   "outputs": [
    {
     "data": {
      "text/html": [
       "<div>\n",
       "<style scoped>\n",
       "    .dataframe tbody tr th:only-of-type {\n",
       "        vertical-align: middle;\n",
       "    }\n",
       "\n",
       "    .dataframe tbody tr th {\n",
       "        vertical-align: top;\n",
       "    }\n",
       "\n",
       "    .dataframe thead th {\n",
       "        text-align: right;\n",
       "    }\n",
       "</style>\n",
       "<table border=\"1\" class=\"dataframe\">\n",
       "  <thead>\n",
       "    <tr style=\"text-align: right;\">\n",
       "      <th></th>\n",
       "      <th>DAY_OF_WEEK</th>\n",
       "      <th>AIRLINE</th>\n",
       "      <th>ORIGIN_AIRPORT</th>\n",
       "      <th>DESTINATION_AIRPORT</th>\n",
       "      <th>SCHEDULED_DEPARTURE</th>\n",
       "      <th>DEPARTURE_TIME</th>\n",
       "      <th>DEPARTURE_DELAY</th>\n",
       "      <th>TAXI_OUT</th>\n",
       "      <th>WHEELS_OFF</th>\n",
       "      <th>SCHEDULED_TIME</th>\n",
       "      <th>DISTANCE</th>\n",
       "      <th>SCHEDULED_ARRIVAL</th>\n",
       "      <th>DIVERTED</th>\n",
       "      <th>FLIGHT_DELAY</th>\n",
       "    </tr>\n",
       "  </thead>\n",
       "  <tbody>\n",
       "    <tr>\n",
       "      <th>0</th>\n",
       "      <td>4</td>\n",
       "      <td>AS</td>\n",
       "      <td>ANC</td>\n",
       "      <td>SEA</td>\n",
       "      <td>2015-01-01 00:05:00</td>\n",
       "      <td>23:54:00</td>\n",
       "      <td>-11.0</td>\n",
       "      <td>21.0</td>\n",
       "      <td>15.0</td>\n",
       "      <td>205.0</td>\n",
       "      <td>1448</td>\n",
       "      <td>2015-01-01 04:30:00</td>\n",
       "      <td>0</td>\n",
       "      <td>NO</td>\n",
       "    </tr>\n",
       "    <tr>\n",
       "      <th>1</th>\n",
       "      <td>4</td>\n",
       "      <td>AA</td>\n",
       "      <td>LAX</td>\n",
       "      <td>PBI</td>\n",
       "      <td>2015-01-01 00:10:00</td>\n",
       "      <td>00:02:00</td>\n",
       "      <td>-8.0</td>\n",
       "      <td>12.0</td>\n",
       "      <td>14.0</td>\n",
       "      <td>280.0</td>\n",
       "      <td>2330</td>\n",
       "      <td>2015-01-01 07:50:00</td>\n",
       "      <td>0</td>\n",
       "      <td>NO</td>\n",
       "    </tr>\n",
       "    <tr>\n",
       "      <th>2</th>\n",
       "      <td>4</td>\n",
       "      <td>US</td>\n",
       "      <td>SFO</td>\n",
       "      <td>CLT</td>\n",
       "      <td>2015-01-01 00:20:00</td>\n",
       "      <td>00:18:00</td>\n",
       "      <td>-2.0</td>\n",
       "      <td>16.0</td>\n",
       "      <td>34.0</td>\n",
       "      <td>286.0</td>\n",
       "      <td>2296</td>\n",
       "      <td>2015-01-01 08:06:00</td>\n",
       "      <td>0</td>\n",
       "      <td>YES</td>\n",
       "    </tr>\n",
       "    <tr>\n",
       "      <th>3</th>\n",
       "      <td>4</td>\n",
       "      <td>AA</td>\n",
       "      <td>LAX</td>\n",
       "      <td>MIA</td>\n",
       "      <td>2015-01-01 00:20:00</td>\n",
       "      <td>00:15:00</td>\n",
       "      <td>-5.0</td>\n",
       "      <td>15.0</td>\n",
       "      <td>30.0</td>\n",
       "      <td>285.0</td>\n",
       "      <td>2342</td>\n",
       "      <td>2015-01-01 08:05:00</td>\n",
       "      <td>0</td>\n",
       "      <td>NO</td>\n",
       "    </tr>\n",
       "    <tr>\n",
       "      <th>4</th>\n",
       "      <td>4</td>\n",
       "      <td>AS</td>\n",
       "      <td>SEA</td>\n",
       "      <td>ANC</td>\n",
       "      <td>2015-01-01 00:25:00</td>\n",
       "      <td>00:24:00</td>\n",
       "      <td>-1.0</td>\n",
       "      <td>11.0</td>\n",
       "      <td>35.0</td>\n",
       "      <td>235.0</td>\n",
       "      <td>1448</td>\n",
       "      <td>2015-01-01 03:20:00</td>\n",
       "      <td>0</td>\n",
       "      <td>NO</td>\n",
       "    </tr>\n",
       "  </tbody>\n",
       "</table>\n",
       "</div>"
      ],
      "text/plain": [
       "   DAY_OF_WEEK AIRLINE ORIGIN_AIRPORT DESTINATION_AIRPORT SCHEDULED_DEPARTURE  \\\n",
       "0            4      AS            ANC                 SEA 2015-01-01 00:05:00   \n",
       "1            4      AA            LAX                 PBI 2015-01-01 00:10:00   \n",
       "2            4      US            SFO                 CLT 2015-01-01 00:20:00   \n",
       "3            4      AA            LAX                 MIA 2015-01-01 00:20:00   \n",
       "4            4      AS            SEA                 ANC 2015-01-01 00:25:00   \n",
       "\n",
       "  DEPARTURE_TIME  DEPARTURE_DELAY  TAXI_OUT  WHEELS_OFF  SCHEDULED_TIME  \\\n",
       "0       23:54:00            -11.0      21.0        15.0           205.0   \n",
       "1       00:02:00             -8.0      12.0        14.0           280.0   \n",
       "2       00:18:00             -2.0      16.0        34.0           286.0   \n",
       "3       00:15:00             -5.0      15.0        30.0           285.0   \n",
       "4       00:24:00             -1.0      11.0        35.0           235.0   \n",
       "\n",
       "   DISTANCE   SCHEDULED_ARRIVAL  DIVERTED FLIGHT_DELAY  \n",
       "0      1448 2015-01-01 04:30:00         0           NO  \n",
       "1      2330 2015-01-01 07:50:00         0           NO  \n",
       "2      2296 2015-01-01 08:06:00         0          YES  \n",
       "3      2342 2015-01-01 08:05:00         0           NO  \n",
       "4      1448 2015-01-01 03:20:00         0           NO  "
      ]
     },
     "execution_count": 18,
     "metadata": {},
     "output_type": "execute_result"
    }
   ],
   "source": [
    "dfFlight.head()"
   ]
  },
  {
   "cell_type": "markdown",
   "metadata": {},
   "source": [
    "### Airline Details \n",
    "---\n"
   ]
  },
  {
   "cell_type": "code",
   "execution_count": 19,
   "metadata": {},
   "outputs": [],
   "source": [
    "# Converting Day_of_week in Catogical Feature\n",
    "week_Days={1:'ONE',2:'TWO',3:'THREE',4:'FOUR',5:'FIVE',6:'SIX',7:'SEVEN'}\n",
    "delay_binary={'YES':0,'NO':1}"
   ]
  },
  {
   "cell_type": "code",
   "execution_count": 20,
   "metadata": {
    "scrolled": true
   },
   "outputs": [
    {
     "data": {
      "text/html": [
       "<div>\n",
       "<style scoped>\n",
       "    .dataframe tbody tr th:only-of-type {\n",
       "        vertical-align: middle;\n",
       "    }\n",
       "\n",
       "    .dataframe tbody tr th {\n",
       "        vertical-align: top;\n",
       "    }\n",
       "\n",
       "    .dataframe thead th {\n",
       "        text-align: right;\n",
       "    }\n",
       "</style>\n",
       "<table border=\"1\" class=\"dataframe\">\n",
       "  <thead>\n",
       "    <tr style=\"text-align: right;\">\n",
       "      <th></th>\n",
       "      <th>DAY_OF_WEEK</th>\n",
       "      <th>AIRLINE</th>\n",
       "      <th>ORIGIN_AIRPORT</th>\n",
       "      <th>DESTINATION_AIRPORT</th>\n",
       "      <th>SCHEDULED_DEPARTURE</th>\n",
       "      <th>DEPARTURE_TIME</th>\n",
       "      <th>DEPARTURE_DELAY</th>\n",
       "      <th>TAXI_OUT</th>\n",
       "      <th>WHEELS_OFF</th>\n",
       "      <th>SCHEDULED_TIME</th>\n",
       "      <th>DISTANCE</th>\n",
       "      <th>SCHEDULED_ARRIVAL</th>\n",
       "      <th>DIVERTED</th>\n",
       "      <th>FLIGHT_DELAY</th>\n",
       "    </tr>\n",
       "  </thead>\n",
       "  <tbody>\n",
       "    <tr>\n",
       "      <th>0</th>\n",
       "      <td>FOUR</td>\n",
       "      <td>AS</td>\n",
       "      <td>ANC</td>\n",
       "      <td>SEA</td>\n",
       "      <td>2015-01-01 00:05:00</td>\n",
       "      <td>23:54:00</td>\n",
       "      <td>-11.0</td>\n",
       "      <td>21.0</td>\n",
       "      <td>15.0</td>\n",
       "      <td>205.0</td>\n",
       "      <td>1448</td>\n",
       "      <td>2015-01-01 04:30:00</td>\n",
       "      <td>0</td>\n",
       "      <td>1</td>\n",
       "    </tr>\n",
       "    <tr>\n",
       "      <th>1</th>\n",
       "      <td>FOUR</td>\n",
       "      <td>AA</td>\n",
       "      <td>LAX</td>\n",
       "      <td>PBI</td>\n",
       "      <td>2015-01-01 00:10:00</td>\n",
       "      <td>00:02:00</td>\n",
       "      <td>-8.0</td>\n",
       "      <td>12.0</td>\n",
       "      <td>14.0</td>\n",
       "      <td>280.0</td>\n",
       "      <td>2330</td>\n",
       "      <td>2015-01-01 07:50:00</td>\n",
       "      <td>0</td>\n",
       "      <td>1</td>\n",
       "    </tr>\n",
       "    <tr>\n",
       "      <th>2</th>\n",
       "      <td>FOUR</td>\n",
       "      <td>US</td>\n",
       "      <td>SFO</td>\n",
       "      <td>CLT</td>\n",
       "      <td>2015-01-01 00:20:00</td>\n",
       "      <td>00:18:00</td>\n",
       "      <td>-2.0</td>\n",
       "      <td>16.0</td>\n",
       "      <td>34.0</td>\n",
       "      <td>286.0</td>\n",
       "      <td>2296</td>\n",
       "      <td>2015-01-01 08:06:00</td>\n",
       "      <td>0</td>\n",
       "      <td>0</td>\n",
       "    </tr>\n",
       "    <tr>\n",
       "      <th>3</th>\n",
       "      <td>FOUR</td>\n",
       "      <td>AA</td>\n",
       "      <td>LAX</td>\n",
       "      <td>MIA</td>\n",
       "      <td>2015-01-01 00:20:00</td>\n",
       "      <td>00:15:00</td>\n",
       "      <td>-5.0</td>\n",
       "      <td>15.0</td>\n",
       "      <td>30.0</td>\n",
       "      <td>285.0</td>\n",
       "      <td>2342</td>\n",
       "      <td>2015-01-01 08:05:00</td>\n",
       "      <td>0</td>\n",
       "      <td>1</td>\n",
       "    </tr>\n",
       "    <tr>\n",
       "      <th>4</th>\n",
       "      <td>FOUR</td>\n",
       "      <td>AS</td>\n",
       "      <td>SEA</td>\n",
       "      <td>ANC</td>\n",
       "      <td>2015-01-01 00:25:00</td>\n",
       "      <td>00:24:00</td>\n",
       "      <td>-1.0</td>\n",
       "      <td>11.0</td>\n",
       "      <td>35.0</td>\n",
       "      <td>235.0</td>\n",
       "      <td>1448</td>\n",
       "      <td>2015-01-01 03:20:00</td>\n",
       "      <td>0</td>\n",
       "      <td>1</td>\n",
       "    </tr>\n",
       "  </tbody>\n",
       "</table>\n",
       "</div>"
      ],
      "text/plain": [
       "  DAY_OF_WEEK AIRLINE ORIGIN_AIRPORT DESTINATION_AIRPORT SCHEDULED_DEPARTURE  \\\n",
       "0        FOUR      AS            ANC                 SEA 2015-01-01 00:05:00   \n",
       "1        FOUR      AA            LAX                 PBI 2015-01-01 00:10:00   \n",
       "2        FOUR      US            SFO                 CLT 2015-01-01 00:20:00   \n",
       "3        FOUR      AA            LAX                 MIA 2015-01-01 00:20:00   \n",
       "4        FOUR      AS            SEA                 ANC 2015-01-01 00:25:00   \n",
       "\n",
       "  DEPARTURE_TIME  DEPARTURE_DELAY  TAXI_OUT  WHEELS_OFF  SCHEDULED_TIME  \\\n",
       "0       23:54:00            -11.0      21.0        15.0           205.0   \n",
       "1       00:02:00             -8.0      12.0        14.0           280.0   \n",
       "2       00:18:00             -2.0      16.0        34.0           286.0   \n",
       "3       00:15:00             -5.0      15.0        30.0           285.0   \n",
       "4       00:24:00             -1.0      11.0        35.0           235.0   \n",
       "\n",
       "   DISTANCE   SCHEDULED_ARRIVAL  DIVERTED  FLIGHT_DELAY  \n",
       "0      1448 2015-01-01 04:30:00         0             1  \n",
       "1      2330 2015-01-01 07:50:00         0             1  \n",
       "2      2296 2015-01-01 08:06:00         0             0  \n",
       "3      2342 2015-01-01 08:05:00         0             1  \n",
       "4      1448 2015-01-01 03:20:00         0             1  "
      ]
     },
     "execution_count": 20,
     "metadata": {},
     "output_type": "execute_result"
    }
   ],
   "source": [
    "dfFlight['DAY_OF_WEEK']=dfFlight['DAY_OF_WEEK'].map(week_Days)\n",
    "dfFlight['FLIGHT_DELAY']=dfFlight['FLIGHT_DELAY'].map(delay_binary)\n",
    "dfFlight.head()"
   ]
  },
  {
   "cell_type": "markdown",
   "metadata": {},
   "source": [
    "#### Feature Engineering \n",
    "---\n",
    "`We will convert all the time in minutes in Decimal`\n",
    "\n",
    "- `ORIGIN_AIRPORT` `DESTINATION_AIRPORT` : `LAG_INFO`\n"
   ]
  },
  {
   "cell_type": "code",
   "execution_count": 21,
   "metadata": {},
   "outputs": [
    {
     "data": {
      "text/plain": [
       "(500000, 15)"
      ]
     },
     "execution_count": 21,
     "metadata": {},
     "output_type": "execute_result"
    }
   ],
   "source": [
    "dfFlight['LAG_INFO']= dfFlight['ORIGIN_AIRPORT']+ '--' +dfFlight['DESTINATION_AIRPORT']\n",
    "dfFlight.shape"
   ]
  },
  {
   "cell_type": "code",
   "execution_count": 22,
   "metadata": {},
   "outputs": [
    {
     "data": {
      "text/html": [
       "<div>\n",
       "<style scoped>\n",
       "    .dataframe tbody tr th:only-of-type {\n",
       "        vertical-align: middle;\n",
       "    }\n",
       "\n",
       "    .dataframe tbody tr th {\n",
       "        vertical-align: top;\n",
       "    }\n",
       "\n",
       "    .dataframe thead th {\n",
       "        text-align: right;\n",
       "    }\n",
       "</style>\n",
       "<table border=\"1\" class=\"dataframe\">\n",
       "  <thead>\n",
       "    <tr style=\"text-align: right;\">\n",
       "      <th></th>\n",
       "      <th>DAY_OF_WEEK</th>\n",
       "      <th>AIRLINE</th>\n",
       "      <th>ORIGIN_AIRPORT</th>\n",
       "      <th>DESTINATION_AIRPORT</th>\n",
       "      <th>SCHEDULED_DEPARTURE</th>\n",
       "      <th>DEPARTURE_TIME</th>\n",
       "      <th>DEPARTURE_DELAY</th>\n",
       "      <th>TAXI_OUT</th>\n",
       "      <th>WHEELS_OFF</th>\n",
       "      <th>SCHEDULED_TIME</th>\n",
       "      <th>DISTANCE</th>\n",
       "      <th>SCHEDULED_ARRIVAL</th>\n",
       "      <th>DIVERTED</th>\n",
       "      <th>FLIGHT_DELAY</th>\n",
       "      <th>LAG_INFO</th>\n",
       "    </tr>\n",
       "  </thead>\n",
       "  <tbody>\n",
       "    <tr>\n",
       "      <th>0</th>\n",
       "      <td>FOUR</td>\n",
       "      <td>AS</td>\n",
       "      <td>ANC</td>\n",
       "      <td>SEA</td>\n",
       "      <td>2015-01-01 00:05:00</td>\n",
       "      <td>23:54:00</td>\n",
       "      <td>-11.0</td>\n",
       "      <td>21.0</td>\n",
       "      <td>15.0</td>\n",
       "      <td>205.0</td>\n",
       "      <td>1448</td>\n",
       "      <td>2015-01-01 04:30:00</td>\n",
       "      <td>0</td>\n",
       "      <td>1</td>\n",
       "      <td>ANC--SEA</td>\n",
       "    </tr>\n",
       "    <tr>\n",
       "      <th>1</th>\n",
       "      <td>FOUR</td>\n",
       "      <td>AA</td>\n",
       "      <td>LAX</td>\n",
       "      <td>PBI</td>\n",
       "      <td>2015-01-01 00:10:00</td>\n",
       "      <td>00:02:00</td>\n",
       "      <td>-8.0</td>\n",
       "      <td>12.0</td>\n",
       "      <td>14.0</td>\n",
       "      <td>280.0</td>\n",
       "      <td>2330</td>\n",
       "      <td>2015-01-01 07:50:00</td>\n",
       "      <td>0</td>\n",
       "      <td>1</td>\n",
       "      <td>LAX--PBI</td>\n",
       "    </tr>\n",
       "    <tr>\n",
       "      <th>2</th>\n",
       "      <td>FOUR</td>\n",
       "      <td>US</td>\n",
       "      <td>SFO</td>\n",
       "      <td>CLT</td>\n",
       "      <td>2015-01-01 00:20:00</td>\n",
       "      <td>00:18:00</td>\n",
       "      <td>-2.0</td>\n",
       "      <td>16.0</td>\n",
       "      <td>34.0</td>\n",
       "      <td>286.0</td>\n",
       "      <td>2296</td>\n",
       "      <td>2015-01-01 08:06:00</td>\n",
       "      <td>0</td>\n",
       "      <td>0</td>\n",
       "      <td>SFO--CLT</td>\n",
       "    </tr>\n",
       "    <tr>\n",
       "      <th>3</th>\n",
       "      <td>FOUR</td>\n",
       "      <td>AA</td>\n",
       "      <td>LAX</td>\n",
       "      <td>MIA</td>\n",
       "      <td>2015-01-01 00:20:00</td>\n",
       "      <td>00:15:00</td>\n",
       "      <td>-5.0</td>\n",
       "      <td>15.0</td>\n",
       "      <td>30.0</td>\n",
       "      <td>285.0</td>\n",
       "      <td>2342</td>\n",
       "      <td>2015-01-01 08:05:00</td>\n",
       "      <td>0</td>\n",
       "      <td>1</td>\n",
       "      <td>LAX--MIA</td>\n",
       "    </tr>\n",
       "    <tr>\n",
       "      <th>4</th>\n",
       "      <td>FOUR</td>\n",
       "      <td>AS</td>\n",
       "      <td>SEA</td>\n",
       "      <td>ANC</td>\n",
       "      <td>2015-01-01 00:25:00</td>\n",
       "      <td>00:24:00</td>\n",
       "      <td>-1.0</td>\n",
       "      <td>11.0</td>\n",
       "      <td>35.0</td>\n",
       "      <td>235.0</td>\n",
       "      <td>1448</td>\n",
       "      <td>2015-01-01 03:20:00</td>\n",
       "      <td>0</td>\n",
       "      <td>1</td>\n",
       "      <td>SEA--ANC</td>\n",
       "    </tr>\n",
       "  </tbody>\n",
       "</table>\n",
       "</div>"
      ],
      "text/plain": [
       "  DAY_OF_WEEK AIRLINE ORIGIN_AIRPORT DESTINATION_AIRPORT SCHEDULED_DEPARTURE  \\\n",
       "0        FOUR      AS            ANC                 SEA 2015-01-01 00:05:00   \n",
       "1        FOUR      AA            LAX                 PBI 2015-01-01 00:10:00   \n",
       "2        FOUR      US            SFO                 CLT 2015-01-01 00:20:00   \n",
       "3        FOUR      AA            LAX                 MIA 2015-01-01 00:20:00   \n",
       "4        FOUR      AS            SEA                 ANC 2015-01-01 00:25:00   \n",
       "\n",
       "  DEPARTURE_TIME  DEPARTURE_DELAY  TAXI_OUT  WHEELS_OFF  SCHEDULED_TIME  \\\n",
       "0       23:54:00            -11.0      21.0        15.0           205.0   \n",
       "1       00:02:00             -8.0      12.0        14.0           280.0   \n",
       "2       00:18:00             -2.0      16.0        34.0           286.0   \n",
       "3       00:15:00             -5.0      15.0        30.0           285.0   \n",
       "4       00:24:00             -1.0      11.0        35.0           235.0   \n",
       "\n",
       "   DISTANCE   SCHEDULED_ARRIVAL  DIVERTED  FLIGHT_DELAY  LAG_INFO  \n",
       "0      1448 2015-01-01 04:30:00         0             1  ANC--SEA  \n",
       "1      2330 2015-01-01 07:50:00         0             1  LAX--PBI  \n",
       "2      2296 2015-01-01 08:06:00         0             0  SFO--CLT  \n",
       "3      2342 2015-01-01 08:05:00         0             1  LAX--MIA  \n",
       "4      1448 2015-01-01 03:20:00         0             1  SEA--ANC  "
      ]
     },
     "execution_count": 22,
     "metadata": {},
     "output_type": "execute_result"
    }
   ],
   "source": [
    "dfFlight.head()"
   ]
  },
  {
   "cell_type": "code",
   "execution_count": 23,
   "metadata": {},
   "outputs": [
    {
     "name": "stdout",
     "output_type": "stream",
     "text": [
      "(500000, 13)\n"
     ]
    }
   ],
   "source": [
    "# Removing because  We have drive the Flight_Delay  from  ARRIVAL_DELAY. So Arrival_Delay is no relevent more.\n",
    "variables_to_remove=['DESTINATION_AIRPORT','ORIGIN_AIRPORT']\n",
    "dfFlight.drop(variables_to_remove, axis=1, inplace=True)\n",
    "print(dfFlight.shape)"
   ]
  },
  {
   "cell_type": "code",
   "execution_count": 24,
   "metadata": {},
   "outputs": [
    {
     "name": "stdout",
     "output_type": "stream",
     "text": [
      "4180\n"
     ]
    },
    {
     "data": {
      "text/html": [
       "<div>\n",
       "<style scoped>\n",
       "    .dataframe tbody tr th:only-of-type {\n",
       "        vertical-align: middle;\n",
       "    }\n",
       "\n",
       "    .dataframe tbody tr th {\n",
       "        vertical-align: top;\n",
       "    }\n",
       "\n",
       "    .dataframe thead th {\n",
       "        text-align: right;\n",
       "    }\n",
       "</style>\n",
       "<table border=\"1\" class=\"dataframe\">\n",
       "  <thead>\n",
       "    <tr style=\"text-align: right;\">\n",
       "      <th></th>\n",
       "      <th>DAY_OF_WEEK</th>\n",
       "      <th>AIRLINE</th>\n",
       "      <th>SCHEDULED_DEPARTURE</th>\n",
       "      <th>DEPARTURE_TIME</th>\n",
       "      <th>DEPARTURE_DELAY</th>\n",
       "      <th>TAXI_OUT</th>\n",
       "      <th>WHEELS_OFF</th>\n",
       "      <th>SCHEDULED_TIME</th>\n",
       "      <th>DISTANCE</th>\n",
       "      <th>SCHEDULED_ARRIVAL</th>\n",
       "      <th>DIVERTED</th>\n",
       "      <th>FLIGHT_DELAY</th>\n",
       "      <th>LAG_INFO</th>\n",
       "    </tr>\n",
       "  </thead>\n",
       "  <tbody>\n",
       "    <tr>\n",
       "      <th>0</th>\n",
       "      <td>FOUR</td>\n",
       "      <td>AS</td>\n",
       "      <td>2015-01-01 00:05:00</td>\n",
       "      <td>23:54:00</td>\n",
       "      <td>-11.0</td>\n",
       "      <td>21.0</td>\n",
       "      <td>15.0</td>\n",
       "      <td>205.0</td>\n",
       "      <td>1448</td>\n",
       "      <td>2015-01-01 04:30:00</td>\n",
       "      <td>0</td>\n",
       "      <td>1</td>\n",
       "      <td>ANC--SEA</td>\n",
       "    </tr>\n",
       "    <tr>\n",
       "      <th>1</th>\n",
       "      <td>FOUR</td>\n",
       "      <td>AA</td>\n",
       "      <td>2015-01-01 00:10:00</td>\n",
       "      <td>00:02:00</td>\n",
       "      <td>-8.0</td>\n",
       "      <td>12.0</td>\n",
       "      <td>14.0</td>\n",
       "      <td>280.0</td>\n",
       "      <td>2330</td>\n",
       "      <td>2015-01-01 07:50:00</td>\n",
       "      <td>0</td>\n",
       "      <td>1</td>\n",
       "      <td>LAX--PBI</td>\n",
       "    </tr>\n",
       "    <tr>\n",
       "      <th>2</th>\n",
       "      <td>FOUR</td>\n",
       "      <td>US</td>\n",
       "      <td>2015-01-01 00:20:00</td>\n",
       "      <td>00:18:00</td>\n",
       "      <td>-2.0</td>\n",
       "      <td>16.0</td>\n",
       "      <td>34.0</td>\n",
       "      <td>286.0</td>\n",
       "      <td>2296</td>\n",
       "      <td>2015-01-01 08:06:00</td>\n",
       "      <td>0</td>\n",
       "      <td>0</td>\n",
       "      <td>SFO--CLT</td>\n",
       "    </tr>\n",
       "    <tr>\n",
       "      <th>3</th>\n",
       "      <td>FOUR</td>\n",
       "      <td>AA</td>\n",
       "      <td>2015-01-01 00:20:00</td>\n",
       "      <td>00:15:00</td>\n",
       "      <td>-5.0</td>\n",
       "      <td>15.0</td>\n",
       "      <td>30.0</td>\n",
       "      <td>285.0</td>\n",
       "      <td>2342</td>\n",
       "      <td>2015-01-01 08:05:00</td>\n",
       "      <td>0</td>\n",
       "      <td>1</td>\n",
       "      <td>LAX--MIA</td>\n",
       "    </tr>\n",
       "    <tr>\n",
       "      <th>4</th>\n",
       "      <td>FOUR</td>\n",
       "      <td>AS</td>\n",
       "      <td>2015-01-01 00:25:00</td>\n",
       "      <td>00:24:00</td>\n",
       "      <td>-1.0</td>\n",
       "      <td>11.0</td>\n",
       "      <td>35.0</td>\n",
       "      <td>235.0</td>\n",
       "      <td>1448</td>\n",
       "      <td>2015-01-01 03:20:00</td>\n",
       "      <td>0</td>\n",
       "      <td>1</td>\n",
       "      <td>SEA--ANC</td>\n",
       "    </tr>\n",
       "  </tbody>\n",
       "</table>\n",
       "</div>"
      ],
      "text/plain": [
       "  DAY_OF_WEEK AIRLINE SCHEDULED_DEPARTURE DEPARTURE_TIME  DEPARTURE_DELAY  \\\n",
       "0        FOUR      AS 2015-01-01 00:05:00       23:54:00            -11.0   \n",
       "1        FOUR      AA 2015-01-01 00:10:00       00:02:00             -8.0   \n",
       "2        FOUR      US 2015-01-01 00:20:00       00:18:00             -2.0   \n",
       "3        FOUR      AA 2015-01-01 00:20:00       00:15:00             -5.0   \n",
       "4        FOUR      AS 2015-01-01 00:25:00       00:24:00             -1.0   \n",
       "\n",
       "   TAXI_OUT  WHEELS_OFF  SCHEDULED_TIME  DISTANCE   SCHEDULED_ARRIVAL  \\\n",
       "0      21.0        15.0           205.0      1448 2015-01-01 04:30:00   \n",
       "1      12.0        14.0           280.0      2330 2015-01-01 07:50:00   \n",
       "2      16.0        34.0           286.0      2296 2015-01-01 08:06:00   \n",
       "3      15.0        30.0           285.0      2342 2015-01-01 08:05:00   \n",
       "4      11.0        35.0           235.0      1448 2015-01-01 03:20:00   \n",
       "\n",
       "   DIVERTED  FLIGHT_DELAY  LAG_INFO  \n",
       "0         0             1  ANC--SEA  \n",
       "1         0             1  LAX--PBI  \n",
       "2         0             0  SFO--CLT  \n",
       "3         0             1  LAX--MIA  \n",
       "4         0             1  SEA--ANC  "
      ]
     },
     "execution_count": 24,
     "metadata": {},
     "output_type": "execute_result"
    }
   ],
   "source": [
    "print(dfFlight['LAG_INFO'].nunique())\n",
    "dfFlight.head()"
   ]
  },
  {
   "cell_type": "markdown",
   "metadata": {},
   "source": [
    "- departure timeing AM/PM\n",
    "- `SCHEDULED_DEPARTURE` : Planned Departure Time\n",
    "- `DEPARTURE_TIME` : WHEEL_OFF - TAXI_OUT\n",
    "- `DEPARTURE_DELAY` : Total Delay on Departure\n",
    "- `TAXI_OUT` : The time duration elapsed between departure from the origin airport gate and wheels off\n",
    "- `WHEELS_OFF` : The time point that the aircraft's wheels leave the ground\n",
    "- `SCHEDULED_TIME` : Planned time amount needed for the flight trip\n",
    "- `AIR_TIME` : The time duration between wheels_off and wheels_on time\n",
    "- `DISTANCE` : Distance between two airports\n",
    "\n",
    "- `SCHEDULED_ARRIVAL` : Planned arrival time\n",
    "\n",
    "- `ARRIVAL_DELAY` : ARRIVAL_TIME-SCHEDULED_ARRIVAL\n",
    "- `DIVERTED` : Aircraft landed on airport that out of schedule"
   ]
  },
  {
   "cell_type": "code",
   "execution_count": 25,
   "metadata": {},
   "outputs": [],
   "source": [
    "# convert time to decimal minutes\n",
    "\n",
    "#     rawtime = pd.to_datetime(t, format='%H:%M:%S').time() \n",
    "#     print(t.hour, rawtime.minute)\n",
    "#      m = (hours * 60) + minutes + (seconds / 60). Ti\n",
    "#     times_in_decimal=(t.hour * 3600) + (t.minute * 60) \n",
    "def convert_hour_to_decimal_minute(rawtime):\n",
    "    if pd.isna(rawtime) :\n",
    "        np.nan\n",
    "    else:\n",
    "#         print(type(rawtime),rawtime)\n",
    "        times_in_decimal = (rawtime.hour * 60) + rawtime.minute \n",
    "        #     print(times_in_decimal)\n",
    "        return times_in_decimal"
   ]
  },
  {
   "cell_type": "code",
   "execution_count": 26,
   "metadata": {},
   "outputs": [
    {
     "data": {
      "text/plain": [
       "(500000, 14)"
      ]
     },
     "execution_count": 26,
     "metadata": {},
     "output_type": "execute_result"
    }
   ],
   "source": [
    "# dfTest=dfFlight.loc[:5,:]\n",
    "dfFlight['DEPARTURE_TIME_DECIMAL']=dfFlight['DEPARTURE_TIME'].map(convert_hour_to_decimal_minute)\n",
    "dfFlight.shape"
   ]
  },
  {
   "cell_type": "code",
   "execution_count": 27,
   "metadata": {},
   "outputs": [
    {
     "data": {
      "text/html": [
       "<div>\n",
       "<style scoped>\n",
       "    .dataframe tbody tr th:only-of-type {\n",
       "        vertical-align: middle;\n",
       "    }\n",
       "\n",
       "    .dataframe tbody tr th {\n",
       "        vertical-align: top;\n",
       "    }\n",
       "\n",
       "    .dataframe thead th {\n",
       "        text-align: right;\n",
       "    }\n",
       "</style>\n",
       "<table border=\"1\" class=\"dataframe\">\n",
       "  <thead>\n",
       "    <tr style=\"text-align: right;\">\n",
       "      <th></th>\n",
       "      <th>DAY_OF_WEEK</th>\n",
       "      <th>AIRLINE</th>\n",
       "      <th>SCHEDULED_DEPARTURE</th>\n",
       "      <th>DEPARTURE_TIME</th>\n",
       "      <th>DEPARTURE_DELAY</th>\n",
       "      <th>TAXI_OUT</th>\n",
       "      <th>WHEELS_OFF</th>\n",
       "      <th>SCHEDULED_TIME</th>\n",
       "      <th>DISTANCE</th>\n",
       "      <th>SCHEDULED_ARRIVAL</th>\n",
       "      <th>DIVERTED</th>\n",
       "      <th>FLIGHT_DELAY</th>\n",
       "      <th>LAG_INFO</th>\n",
       "      <th>DEPARTURE_TIME_DECIMAL</th>\n",
       "    </tr>\n",
       "  </thead>\n",
       "  <tbody>\n",
       "    <tr>\n",
       "      <th>0</th>\n",
       "      <td>FOUR</td>\n",
       "      <td>AS</td>\n",
       "      <td>2015-01-01 00:05:00</td>\n",
       "      <td>23:54:00</td>\n",
       "      <td>-11.0</td>\n",
       "      <td>21.0</td>\n",
       "      <td>15.0</td>\n",
       "      <td>205.0</td>\n",
       "      <td>1448</td>\n",
       "      <td>2015-01-01 04:30:00</td>\n",
       "      <td>0</td>\n",
       "      <td>1</td>\n",
       "      <td>ANC--SEA</td>\n",
       "      <td>1434.0</td>\n",
       "    </tr>\n",
       "    <tr>\n",
       "      <th>1</th>\n",
       "      <td>FOUR</td>\n",
       "      <td>AA</td>\n",
       "      <td>2015-01-01 00:10:00</td>\n",
       "      <td>00:02:00</td>\n",
       "      <td>-8.0</td>\n",
       "      <td>12.0</td>\n",
       "      <td>14.0</td>\n",
       "      <td>280.0</td>\n",
       "      <td>2330</td>\n",
       "      <td>2015-01-01 07:50:00</td>\n",
       "      <td>0</td>\n",
       "      <td>1</td>\n",
       "      <td>LAX--PBI</td>\n",
       "      <td>2.0</td>\n",
       "    </tr>\n",
       "    <tr>\n",
       "      <th>2</th>\n",
       "      <td>FOUR</td>\n",
       "      <td>US</td>\n",
       "      <td>2015-01-01 00:20:00</td>\n",
       "      <td>00:18:00</td>\n",
       "      <td>-2.0</td>\n",
       "      <td>16.0</td>\n",
       "      <td>34.0</td>\n",
       "      <td>286.0</td>\n",
       "      <td>2296</td>\n",
       "      <td>2015-01-01 08:06:00</td>\n",
       "      <td>0</td>\n",
       "      <td>0</td>\n",
       "      <td>SFO--CLT</td>\n",
       "      <td>18.0</td>\n",
       "    </tr>\n",
       "    <tr>\n",
       "      <th>3</th>\n",
       "      <td>FOUR</td>\n",
       "      <td>AA</td>\n",
       "      <td>2015-01-01 00:20:00</td>\n",
       "      <td>00:15:00</td>\n",
       "      <td>-5.0</td>\n",
       "      <td>15.0</td>\n",
       "      <td>30.0</td>\n",
       "      <td>285.0</td>\n",
       "      <td>2342</td>\n",
       "      <td>2015-01-01 08:05:00</td>\n",
       "      <td>0</td>\n",
       "      <td>1</td>\n",
       "      <td>LAX--MIA</td>\n",
       "      <td>15.0</td>\n",
       "    </tr>\n",
       "    <tr>\n",
       "      <th>4</th>\n",
       "      <td>FOUR</td>\n",
       "      <td>AS</td>\n",
       "      <td>2015-01-01 00:25:00</td>\n",
       "      <td>00:24:00</td>\n",
       "      <td>-1.0</td>\n",
       "      <td>11.0</td>\n",
       "      <td>35.0</td>\n",
       "      <td>235.0</td>\n",
       "      <td>1448</td>\n",
       "      <td>2015-01-01 03:20:00</td>\n",
       "      <td>0</td>\n",
       "      <td>1</td>\n",
       "      <td>SEA--ANC</td>\n",
       "      <td>24.0</td>\n",
       "    </tr>\n",
       "  </tbody>\n",
       "</table>\n",
       "</div>"
      ],
      "text/plain": [
       "  DAY_OF_WEEK AIRLINE SCHEDULED_DEPARTURE DEPARTURE_TIME  DEPARTURE_DELAY  \\\n",
       "0        FOUR      AS 2015-01-01 00:05:00       23:54:00            -11.0   \n",
       "1        FOUR      AA 2015-01-01 00:10:00       00:02:00             -8.0   \n",
       "2        FOUR      US 2015-01-01 00:20:00       00:18:00             -2.0   \n",
       "3        FOUR      AA 2015-01-01 00:20:00       00:15:00             -5.0   \n",
       "4        FOUR      AS 2015-01-01 00:25:00       00:24:00             -1.0   \n",
       "\n",
       "   TAXI_OUT  WHEELS_OFF  SCHEDULED_TIME  DISTANCE   SCHEDULED_ARRIVAL  \\\n",
       "0      21.0        15.0           205.0      1448 2015-01-01 04:30:00   \n",
       "1      12.0        14.0           280.0      2330 2015-01-01 07:50:00   \n",
       "2      16.0        34.0           286.0      2296 2015-01-01 08:06:00   \n",
       "3      15.0        30.0           285.0      2342 2015-01-01 08:05:00   \n",
       "4      11.0        35.0           235.0      1448 2015-01-01 03:20:00   \n",
       "\n",
       "   DIVERTED  FLIGHT_DELAY  LAG_INFO  DEPARTURE_TIME_DECIMAL  \n",
       "0         0             1  ANC--SEA                  1434.0  \n",
       "1         0             1  LAX--PBI                     2.0  \n",
       "2         0             0  SFO--CLT                    18.0  \n",
       "3         0             1  LAX--MIA                    15.0  \n",
       "4         0             1  SEA--ANC                    24.0  "
      ]
     },
     "execution_count": 27,
     "metadata": {},
     "output_type": "execute_result"
    }
   ],
   "source": [
    "# dfFlight = dfFlight.reindex(sorted(dfFlight.columns), axis=1)\n",
    "dfFlight.head()"
   ]
  },
  {
   "cell_type": "code",
   "execution_count": 28,
   "metadata": {},
   "outputs": [
    {
     "data": {
      "text/plain": [
       "DAY_OF_WEEK                       object\n",
       "AIRLINE                           object\n",
       "SCHEDULED_DEPARTURE       datetime64[ns]\n",
       "DEPARTURE_TIME                    object\n",
       "DEPARTURE_DELAY                  float64\n",
       "TAXI_OUT                         float64\n",
       "WHEELS_OFF                       float64\n",
       "SCHEDULED_TIME                   float64\n",
       "DISTANCE                           int64\n",
       "SCHEDULED_ARRIVAL         datetime64[ns]\n",
       "DIVERTED                           int64\n",
       "FLIGHT_DELAY                       int64\n",
       "LAG_INFO                          object\n",
       "DEPARTURE_TIME_DECIMAL           float64\n",
       "dtype: object"
      ]
     },
     "execution_count": 28,
     "metadata": {},
     "output_type": "execute_result"
    }
   ],
   "source": [
    "dfFlight.dtypes"
   ]
  },
  {
   "cell_type": "code",
   "execution_count": 29,
   "metadata": {
    "scrolled": true
   },
   "outputs": [],
   "source": [
    "dfFlight['SCHEDULED_ARRIVAL_DECIMAL']=dfFlight['SCHEDULED_ARRIVAL'].map(convert_hour_to_decimal_minute)"
   ]
  },
  {
   "cell_type": "code",
   "execution_count": 30,
   "metadata": {},
   "outputs": [
    {
     "data": {
      "text/html": [
       "<div>\n",
       "<style scoped>\n",
       "    .dataframe tbody tr th:only-of-type {\n",
       "        vertical-align: middle;\n",
       "    }\n",
       "\n",
       "    .dataframe tbody tr th {\n",
       "        vertical-align: top;\n",
       "    }\n",
       "\n",
       "    .dataframe thead th {\n",
       "        text-align: right;\n",
       "    }\n",
       "</style>\n",
       "<table border=\"1\" class=\"dataframe\">\n",
       "  <thead>\n",
       "    <tr style=\"text-align: right;\">\n",
       "      <th></th>\n",
       "      <th>DAY_OF_WEEK</th>\n",
       "      <th>AIRLINE</th>\n",
       "      <th>SCHEDULED_DEPARTURE</th>\n",
       "      <th>DEPARTURE_TIME</th>\n",
       "      <th>DEPARTURE_DELAY</th>\n",
       "      <th>TAXI_OUT</th>\n",
       "      <th>WHEELS_OFF</th>\n",
       "      <th>SCHEDULED_TIME</th>\n",
       "      <th>DISTANCE</th>\n",
       "      <th>SCHEDULED_ARRIVAL</th>\n",
       "      <th>DIVERTED</th>\n",
       "      <th>FLIGHT_DELAY</th>\n",
       "      <th>LAG_INFO</th>\n",
       "      <th>DEPARTURE_TIME_DECIMAL</th>\n",
       "      <th>SCHEDULED_ARRIVAL_DECIMAL</th>\n",
       "    </tr>\n",
       "  </thead>\n",
       "  <tbody>\n",
       "    <tr>\n",
       "      <th>0</th>\n",
       "      <td>FOUR</td>\n",
       "      <td>AS</td>\n",
       "      <td>2015-01-01 00:05:00</td>\n",
       "      <td>23:54:00</td>\n",
       "      <td>-11.0</td>\n",
       "      <td>21.0</td>\n",
       "      <td>15.0</td>\n",
       "      <td>205.0</td>\n",
       "      <td>1448</td>\n",
       "      <td>2015-01-01 04:30:00</td>\n",
       "      <td>0</td>\n",
       "      <td>1</td>\n",
       "      <td>ANC--SEA</td>\n",
       "      <td>1434.0</td>\n",
       "      <td>270</td>\n",
       "    </tr>\n",
       "    <tr>\n",
       "      <th>1</th>\n",
       "      <td>FOUR</td>\n",
       "      <td>AA</td>\n",
       "      <td>2015-01-01 00:10:00</td>\n",
       "      <td>00:02:00</td>\n",
       "      <td>-8.0</td>\n",
       "      <td>12.0</td>\n",
       "      <td>14.0</td>\n",
       "      <td>280.0</td>\n",
       "      <td>2330</td>\n",
       "      <td>2015-01-01 07:50:00</td>\n",
       "      <td>0</td>\n",
       "      <td>1</td>\n",
       "      <td>LAX--PBI</td>\n",
       "      <td>2.0</td>\n",
       "      <td>470</td>\n",
       "    </tr>\n",
       "    <tr>\n",
       "      <th>2</th>\n",
       "      <td>FOUR</td>\n",
       "      <td>US</td>\n",
       "      <td>2015-01-01 00:20:00</td>\n",
       "      <td>00:18:00</td>\n",
       "      <td>-2.0</td>\n",
       "      <td>16.0</td>\n",
       "      <td>34.0</td>\n",
       "      <td>286.0</td>\n",
       "      <td>2296</td>\n",
       "      <td>2015-01-01 08:06:00</td>\n",
       "      <td>0</td>\n",
       "      <td>0</td>\n",
       "      <td>SFO--CLT</td>\n",
       "      <td>18.0</td>\n",
       "      <td>486</td>\n",
       "    </tr>\n",
       "    <tr>\n",
       "      <th>3</th>\n",
       "      <td>FOUR</td>\n",
       "      <td>AA</td>\n",
       "      <td>2015-01-01 00:20:00</td>\n",
       "      <td>00:15:00</td>\n",
       "      <td>-5.0</td>\n",
       "      <td>15.0</td>\n",
       "      <td>30.0</td>\n",
       "      <td>285.0</td>\n",
       "      <td>2342</td>\n",
       "      <td>2015-01-01 08:05:00</td>\n",
       "      <td>0</td>\n",
       "      <td>1</td>\n",
       "      <td>LAX--MIA</td>\n",
       "      <td>15.0</td>\n",
       "      <td>485</td>\n",
       "    </tr>\n",
       "    <tr>\n",
       "      <th>4</th>\n",
       "      <td>FOUR</td>\n",
       "      <td>AS</td>\n",
       "      <td>2015-01-01 00:25:00</td>\n",
       "      <td>00:24:00</td>\n",
       "      <td>-1.0</td>\n",
       "      <td>11.0</td>\n",
       "      <td>35.0</td>\n",
       "      <td>235.0</td>\n",
       "      <td>1448</td>\n",
       "      <td>2015-01-01 03:20:00</td>\n",
       "      <td>0</td>\n",
       "      <td>1</td>\n",
       "      <td>SEA--ANC</td>\n",
       "      <td>24.0</td>\n",
       "      <td>200</td>\n",
       "    </tr>\n",
       "  </tbody>\n",
       "</table>\n",
       "</div>"
      ],
      "text/plain": [
       "  DAY_OF_WEEK AIRLINE SCHEDULED_DEPARTURE DEPARTURE_TIME  DEPARTURE_DELAY  \\\n",
       "0        FOUR      AS 2015-01-01 00:05:00       23:54:00            -11.0   \n",
       "1        FOUR      AA 2015-01-01 00:10:00       00:02:00             -8.0   \n",
       "2        FOUR      US 2015-01-01 00:20:00       00:18:00             -2.0   \n",
       "3        FOUR      AA 2015-01-01 00:20:00       00:15:00             -5.0   \n",
       "4        FOUR      AS 2015-01-01 00:25:00       00:24:00             -1.0   \n",
       "\n",
       "   TAXI_OUT  WHEELS_OFF  SCHEDULED_TIME  DISTANCE   SCHEDULED_ARRIVAL  \\\n",
       "0      21.0        15.0           205.0      1448 2015-01-01 04:30:00   \n",
       "1      12.0        14.0           280.0      2330 2015-01-01 07:50:00   \n",
       "2      16.0        34.0           286.0      2296 2015-01-01 08:06:00   \n",
       "3      15.0        30.0           285.0      2342 2015-01-01 08:05:00   \n",
       "4      11.0        35.0           235.0      1448 2015-01-01 03:20:00   \n",
       "\n",
       "   DIVERTED  FLIGHT_DELAY  LAG_INFO  DEPARTURE_TIME_DECIMAL  \\\n",
       "0         0             1  ANC--SEA                  1434.0   \n",
       "1         0             1  LAX--PBI                     2.0   \n",
       "2         0             0  SFO--CLT                    18.0   \n",
       "3         0             1  LAX--MIA                    15.0   \n",
       "4         0             1  SEA--ANC                    24.0   \n",
       "\n",
       "   SCHEDULED_ARRIVAL_DECIMAL  \n",
       "0                        270  \n",
       "1                        470  \n",
       "2                        486  \n",
       "3                        485  \n",
       "4                        200  "
      ]
     },
     "execution_count": 30,
     "metadata": {},
     "output_type": "execute_result"
    }
   ],
   "source": [
    "dfFlight.head()"
   ]
  },
  {
   "cell_type": "code",
   "execution_count": 31,
   "metadata": {},
   "outputs": [
    {
     "data": {
      "text/plain": [
       "Index(['SCHEDULED_DEPARTURE', 'DEPARTURE_DELAY', 'TAXI_OUT', 'WHEELS_OFF',\n",
       "       'SCHEDULED_TIME', 'DISTANCE', 'SCHEDULED_ARRIVAL', 'DIVERTED',\n",
       "       'FLIGHT_DELAY', 'DEPARTURE_TIME_DECIMAL',\n",
       "       ...\n",
       "       'LAG_INFO_XNA--DEN', 'LAG_INFO_XNA--DFW', 'LAG_INFO_XNA--EWR',\n",
       "       'LAG_INFO_XNA--IAH', 'LAG_INFO_XNA--LGA', 'LAG_INFO_XNA--MSP',\n",
       "       'LAG_INFO_XNA--ORD', 'LAG_INFO_YAK--CDV', 'LAG_INFO_YAK--JNU',\n",
       "       'LAG_INFO_YUM--PHX'],\n",
       "      dtype='object', length=5617)"
      ]
     },
     "execution_count": 31,
     "metadata": {},
     "output_type": "execute_result"
    }
   ],
   "source": [
    "df=pd.get_dummies(dfFlight, drop_first=False)\n",
    "df.columns"
   ]
  },
  {
   "cell_type": "code",
   "execution_count": 32,
   "metadata": {},
   "outputs": [
    {
     "data": {
      "text/plain": [
       "(500000, 5617)"
      ]
     },
     "execution_count": 32,
     "metadata": {},
     "output_type": "execute_result"
    }
   ],
   "source": [
    "df.shape"
   ]
  },
  {
   "cell_type": "code",
   "execution_count": 33,
   "metadata": {},
   "outputs": [],
   "source": [
    "dfAirline=ut.load_csv('././data/airlines.csv',numRow=300)"
   ]
  },
  {
   "cell_type": "code",
   "execution_count": null,
   "metadata": {},
   "outputs": [],
   "source": [
    "airline_companies = dfAirline.set_index('IATA_CODE')['AIRLINE'].to_dict()"
   ]
  },
  {
   "cell_type": "code",
   "execution_count": null,
   "metadata": {},
   "outputs": [],
   "source": [
    "airline_companies"
   ]
  },
  {
   "cell_type": "code",
   "execution_count": null,
   "metadata": {},
   "outputs": [],
   "source": [
    "# dfFlight(['FLIGHT_DELAY','AIRLINE']).groupby(['AIRLINE']).agg('count')\n",
    "dfGroup=dfFlight.groupby(['AIRLINE','FLIGHT_DELAY'])"
   ]
  },
  {
   "cell_type": "code",
   "execution_count": null,
   "metadata": {},
   "outputs": [],
   "source": [
    "dfGroup=dfGroup['FLIGHT_DELAY'].agg(['count']).reset_index()"
   ]
  },
  {
   "cell_type": "code",
   "execution_count": null,
   "metadata": {},
   "outputs": [],
   "source": [
    "dfGroup"
   ]
  },
  {
   "cell_type": "code",
   "execution_count": null,
   "metadata": {},
   "outputs": [],
   "source": [
    "dfGroup\n",
    "dfGroup.columns=['AIRLINE','FLIGHT_DELAY','DELAY_COUNT']"
   ]
  },
  {
   "cell_type": "code",
   "execution_count": null,
   "metadata": {},
   "outputs": [],
   "source": [
    "dfGroup['DELAY_COUNT_%']=dfGroup['DELAY_COUNT'].map(missing_percent)"
   ]
  },
  {
   "cell_type": "markdown",
   "metadata": {},
   "source": [
    "#### Delay Analysis in respect to Air line "
   ]
  },
  {
   "cell_type": "code",
   "execution_count": null,
   "metadata": {},
   "outputs": [],
   "source": [
    "dfGroup['AIRLINE']=dfGroup['AIRLINE'].map(airline_companies)"
   ]
  },
  {
   "cell_type": "code",
   "execution_count": null,
   "metadata": {},
   "outputs": [],
   "source": [
    "dfGroup"
   ]
  },
  {
   "cell_type": "code",
   "execution_count": null,
   "metadata": {},
   "outputs": [],
   "source": [
    "# function that extract statistical parameters from a grouby objet:\n",
    "def get_stats(group):\n",
    "    return {'min': group.min(), 'max': group.max(),\n",
    "            'count': group.count(), 'mean': group.mean()}\n",
    "#_______________________________________________________________\n",
    "# Creation of a dataframe with statitical infos on each airline:\n",
    "global_stats = dfFlight['DEPARTURE_DELAY'].groupby(dfFlight['AIRLINE']).apply(get_stats).unstack()\n",
    "global_stats = global_stats.sort_values('count')\n",
    "global_stats"
   ]
  },
  {
   "cell_type": "code",
   "execution_count": null,
   "metadata": {},
   "outputs": [],
   "source": [
    "font = {'family' : 'normal', 'weight' : 'bold', 'size'   : 15}\n",
    "mpl.rc('font', **font)"
   ]
  },
  {
   "cell_type": "code",
   "execution_count": null,
   "metadata": {},
   "outputs": [],
   "source": [
    "#__________________________________________________________________\n",
    "# I extract a subset of columns and redefine the airlines labeling \n",
    "df2 = dfFlight.loc[:, ['AIRLINE', 'DEPARTURE_DELAY']]\n",
    "df2['AIRLINE'] = df2['AIRLINE'].replace(airline_companies)\n",
    "#________________________________________________________________________\n",
    "colors = ['royalblue', 'grey', 'wheat', 'c', 'firebrick', 'seagreen', 'lightskyblue',\n",
    "          'lightcoral', 'yellowgreen', 'gold', 'tomato', 'violet', 'aquamarine', 'chartreuse']\n",
    "#___________________________________\n",
    "fig = plt.figure(1, figsize=(16,15))\n",
    "gs=GridSpec(2,2)             \n",
    "ax1=fig.add_subplot(gs[0,0]) \n",
    "ax2=fig.add_subplot(gs[0,1]) \n",
    "ax3=fig.add_subplot(gs[1,:]) \n",
    "#------------------------------\n",
    "# Pie chart nº1: nb of flights\n",
    "#------------------------------\n",
    "labels = [s for s in  global_stats.index]\n",
    "sizes  = global_stats['count'].values\n",
    "explode = [0.3 if sizes[i] < 20000 else 0.0 for i in range(len(airline_companies))]\n",
    "patches, texts, autotexts = ax1.pie(sizes, explode = explode,\n",
    "                                labels=labels, colors = colors,  autopct='%1.0f%%',\n",
    "                                shadow=False, startangle=0)\n",
    "for i in range(len(airline_companies)): \n",
    "    texts[i].set_fontsize(14)\n",
    "ax1.axis('equal')\n",
    "ax1.set_title('% of flights per company', bbox={'facecolor':'midnightblue', 'pad':5},\n",
    "              color = 'w',fontsize=18)\n",
    "#_______________________________________________\n",
    "# I set the legend: abreviation -> airline name\n",
    "comp_handler = []\n",
    "for i in range(len(airline_companies)):\n",
    "    comp_handler.append(mpatches.Patch(color=colors[i],\n",
    "            label = global_stats.index[i] + ': ' + airline_companies[global_stats.index[i]]))\n",
    "ax1.legend(handles=comp_handler, bbox_to_anchor=(0.2, 0.9), \n",
    "           fontsize = 13, bbox_transform=plt.gcf().transFigure)\n",
    "#----------------------------------------\n",
    "# Pie chart nº2: mean delay at departure\n",
    "#----------------------------------------\n",
    "sizes  = global_stats['mean'].values\n",
    "sizes  = [max(s,0) for s in sizes]\n",
    "explode = [0.0 if sizes[i] < 20000 else 0.01 for i in range(len(airline_companies))]\n",
    "patches, texts, autotexts = ax2.pie(sizes, explode = explode, labels = labels,\n",
    "                                colors = colors, shadow=False, startangle=0,\n",
    "                                autopct = lambda p :  '{:.0f}'.format(p * sum(sizes) / 100))\n",
    "for i in range(len(airline_companies)): \n",
    "    texts[i].set_fontsize(14)\n",
    "ax2.axis('equal')\n",
    "ax2.set_title('Mean delay at origin', bbox={'facecolor':'midnightblue', 'pad':5},\n",
    "              color='w', fontsize=18)\n",
    "#------------------------------------------------------\n",
    "# striplot with all the values reported for the delays\n",
    "#___________________________________________________________________\n",
    "# I redefine the colors for correspondance with the pie charts\n",
    "colors = ['firebrick', 'gold', 'lightcoral', 'aquamarine', 'c', 'yellowgreen', 'grey',\n",
    "          'seagreen', 'tomato', 'violet', 'wheat', 'chartreuse', 'lightskyblue', 'royalblue']\n",
    "#___________________________________________________________________\n",
    "ax3 = sns.stripplot(y=\"AIRLINE\", x=\"DEPARTURE_DELAY\", size = 4, palette = colors,\n",
    "                    data=df2, linewidth = 0.5,  jitter=True)\n",
    "plt.setp(ax3.get_xticklabels(), fontsize=14)\n",
    "plt.setp(ax3.get_yticklabels(), fontsize=14)\n",
    "ax3.set_xticklabels(['{:2.0f}h{:2.0f}m'.format(*[int(y) for y in divmod(x,60)])\n",
    "                         for x in ax3.get_xticks()])\n",
    "plt.xlabel('Departure delay', fontsize=18, bbox={'facecolor':'midnightblue', 'pad':5},\n",
    "           color='w', labelpad=20)\n",
    "ax3.yaxis.label.set_visible(False)\n",
    "#________________________\n",
    "plt.tight_layout(w_pad=3) "
   ]
  },
  {
   "cell_type": "code",
   "execution_count": null,
   "metadata": {},
   "outputs": [],
   "source": []
  },
  {
   "cell_type": "code",
   "execution_count": null,
   "metadata": {},
   "outputs": [],
   "source": []
  }
 ],
 "metadata": {
  "kernelspec": {
   "display_name": "Python 3",
   "language": "python",
   "name": "python3"
  },
  "language_info": {
   "codemirror_mode": {
    "name": "ipython",
    "version": 3
   },
   "file_extension": ".py",
   "mimetype": "text/x-python",
   "name": "python",
   "nbconvert_exporter": "python",
   "pygments_lexer": "ipython3",
   "version": "3.6.7"
  }
 },
 "nbformat": 4,
 "nbformat_minor": 2
}
